{
  "nbformat": 4,
  "nbformat_minor": 0,
  "metadata": {
    "colab": {
      "provenance": [],
      "authorship_tag": "ABX9TyOzmGK8y7clo1BmYaJm0QJ9",
      "include_colab_link": true
    },
    "kernelspec": {
      "name": "python3",
      "display_name": "Python 3"
    },
    "language_info": {
      "name": "python"
    }
  },
  "cells": [
    {
      "cell_type": "markdown",
      "metadata": {
        "id": "view-in-github",
        "colab_type": "text"
      },
      "source": [
        "<a href=\"https://colab.research.google.com/github/DanielHFMacedo/Python-1-Basico-Prof-Amanda-Escola-Fuctura-Tecnologia-/blob/main/Py1_Aula3_Strings.ipynb\" target=\"_parent\"><img src=\"https://colab.research.google.com/assets/colab-badge.svg\" alt=\"Open In Colab\"/></a>"
      ]
    },
    {
      "cell_type": "code",
      "execution_count": 1,
      "metadata": {
        "colab": {
          "base_uri": "https://localhost:8080/"
        },
        "id": "6zjm2HbPYGXR",
        "outputId": "58ae60a9-f9c2-4aed-c9e1-81b9bdf79381"
      },
      "outputs": [
        {
          "output_type": "stream",
          "name": "stdout",
          "text": [
            "h\n",
            "y\n"
          ]
        }
      ],
      "source": [
        "# Strings em Python\n",
        "#Acessando caracteres diretamente\n",
        "s=\"Python\"\n",
        "print(s[3])\n",
        "print(s[1])"
      ]
    },
    {
      "cell_type": "code",
      "source": [
        "#comprimento de uma string\n",
        "print(len(s))"
      ],
      "metadata": {
        "colab": {
          "base_uri": "https://localhost:8080/"
        },
        "id": "1k66LfbNbkRo",
        "outputId": "8af9e489-ff57-45d7-ea76-1171ef032ae7"
      },
      "execution_count": 2,
      "outputs": [
        {
          "output_type": "stream",
          "name": "stdout",
          "text": [
            "6\n"
          ]
        }
      ]
    },
    {
      "cell_type": "code",
      "source": [
        "#Ultimo termo\n",
        "print(s[6]) # Vai dar erro porque o 6 elemento não existe, apesar da len(s)=6 ele tem 5 elementos contando com zero\n"
      ],
      "metadata": {
        "colab": {
          "base_uri": "https://localhost:8080/",
          "height": 208
        },
        "id": "whzo7_VKcLmd",
        "outputId": "c48ead7e-89e3-41c7-8d7c-64733a3d185c"
      },
      "execution_count": 4,
      "outputs": [
        {
          "output_type": "error",
          "ename": "IndexError",
          "evalue": "ignored",
          "traceback": [
            "\u001b[0;31m---------------------------------------------------------------------------\u001b[0m",
            "\u001b[0;31mIndexError\u001b[0m                                Traceback (most recent call last)",
            "\u001b[0;32m<ipython-input-4-0c79f7e1f448>\u001b[0m in \u001b[0;36m<module>\u001b[0;34m\u001b[0m\n\u001b[1;32m      1\u001b[0m \u001b[0;31m#Ultimo termo\u001b[0m\u001b[0;34m\u001b[0m\u001b[0;34m\u001b[0m\u001b[0;34m\u001b[0m\u001b[0m\n\u001b[0;32m----> 2\u001b[0;31m \u001b[0mprint\u001b[0m\u001b[0;34m(\u001b[0m\u001b[0ms\u001b[0m\u001b[0;34m[\u001b[0m\u001b[0;36m6\u001b[0m\u001b[0;34m]\u001b[0m\u001b[0;34m)\u001b[0m \u001b[0;31m# Vai dar erro porque o 6 elemento não existe, apesar da len(s)=6 ele tem 5 elementos contando com zero\u001b[0m\u001b[0;34m\u001b[0m\u001b[0;34m\u001b[0m\u001b[0m\n\u001b[0m\u001b[1;32m      3\u001b[0m \u001b[0mprint\u001b[0m\u001b[0;34m(\u001b[0m\u001b[0ms\u001b[0m\u001b[0;34m[\u001b[0m\u001b[0mlen\u001b[0m\u001b[0;34m(\u001b[0m\u001b[0ms\u001b[0m\u001b[0;34m)\u001b[0m\u001b[0;34m-\u001b[0m\u001b[0;36m1\u001b[0m\u001b[0;34m]\u001b[0m\u001b[0;34m)\u001b[0m \u001b[0;31m# Devemos usar esse código para imprimir o último elemento.\u001b[0m\u001b[0;34m\u001b[0m\u001b[0;34m\u001b[0m\u001b[0m\n",
            "\u001b[0;31mIndexError\u001b[0m: string index out of range"
          ]
        }
      ]
    },
    {
      "cell_type": "code",
      "source": [
        "print(s[len(s)-1]) # Devemos usar esse código para imprimir o último elemento."
      ],
      "metadata": {
        "colab": {
          "base_uri": "https://localhost:8080/"
        },
        "id": "pCZZJKZRc-rq",
        "outputId": "6bbb9ac7-d998-4f49-f3e4-1f366ef0781a"
      },
      "execution_count": 5,
      "outputs": [
        {
          "output_type": "stream",
          "name": "stdout",
          "text": [
            "n\n"
          ]
        }
      ]
    },
    {
      "cell_type": "code",
      "source": [
        "# Acesso por números negativos\n",
        "print(s[-1])\n",
        "print(s[-2])\n",
        "print(s[-3])\n",
        "print(s[-4])\n",
        "print(s[-5])\n",
        "print(s[-6])"
      ],
      "metadata": {
        "colab": {
          "base_uri": "https://localhost:8080/"
        },
        "id": "APXRiNvbdBm5",
        "outputId": "79b3468d-bfd6-4b96-ea3b-14aa6f26d627"
      },
      "execution_count": 6,
      "outputs": [
        {
          "output_type": "stream",
          "name": "stdout",
          "text": [
            "n\n",
            "o\n",
            "h\n",
            "t\n",
            "y\n",
            "P\n"
          ]
        }
      ]
    },
    {
      "cell_type": "code",
      "source": [
        "#Fatiamento de uma string\n",
        "#Regra : s[strat, stop, step]\n",
        "print(\"Aqui:\", s[-1 : -(len(s)+1) : -1])  # start=-1, stop=-6, step=-1, ou seja, \n",
        "print(s[0:2])\n",
        "print(s[:2])\n",
        "print(s[1:5:2])\n",
        "print(s[3:6:2])\n",
        "print(s[3::2])\n"
      ],
      "metadata": {
        "colab": {
          "base_uri": "https://localhost:8080/"
        },
        "id": "Vev-smzjgVM2",
        "outputId": "c81346cd-b0fa-40e0-85aa-340fb750cf4f"
      },
      "execution_count": 10,
      "outputs": [
        {
          "output_type": "stream",
          "name": "stdout",
          "text": [
            "Aqui: nohtyP\n",
            "Py\n",
            "Py\n",
            "yh\n",
            "hn\n",
            "hn\n"
          ]
        }
      ]
    },
    {
      "cell_type": "code",
      "source": [
        "#Métodos associados aos objetos strings\n",
        "print(\"Fuctura\".upper()) # tudo maiúsculo\n",
        "print(\"Fuctura\".lower()) # tudo maiúsculo\n",
        "print(\"python na fuctura\".title()) # tudo maiúsculo\n",
        "frase = \"python e legal\"\n",
        "teste = (\"+\".join(frase))\n",
        "print(teste)\n",
        "print(frase.split()) # Divide as string em partes, no modo padrão ele separa por \" \" ou seja espaço em branco.\n",
        "print(frase.split(\"o\")) # Colocando um caractere no argumento do split dividimos a string pelo argumento."
      ],
      "metadata": {
        "colab": {
          "base_uri": "https://localhost:8080/"
        },
        "id": "mdq2_ZsMinls",
        "outputId": "e4d9f2e5-435b-4894-bd3b-d11244628b92"
      },
      "execution_count": 19,
      "outputs": [
        {
          "output_type": "stream",
          "name": "stdout",
          "text": [
            "FUCTURA\n",
            "fuctura\n",
            "Python Na Fuctura\n",
            "p+y+t+h+o+n+ +e+ +l+e+g+a+l\n",
            "['python', 'e', 'legal']\n",
            "['pyth', 'n e legal']\n"
          ]
        }
      ]
    },
    {
      "cell_type": "code",
      "source": [],
      "metadata": {
        "id": "TRwk8AjYmWHs"
      },
      "execution_count": null,
      "outputs": []
    },
    {
      "cell_type": "code",
      "source": [
        "\"\"\"\n",
        "Exercício:\n",
        "Faça um programa que permita ao usuário digitar o seu nome e em seguida mostre o nome do usuário de trás para frente\n",
        "utilizando letras maiúsculas\n",
        "\"\"\"\n",
        "nome=input(\"Digite o seu nome completo: \\n\")\n",
        "nome=nome.upper()[::-1] \n",
        "print(nome)"
      ],
      "metadata": {
        "colab": {
          "base_uri": "https://localhost:8080/"
        },
        "id": "fS4glrrJlSQW",
        "outputId": "67019200-19ec-4482-c14e-247f4ed8b003"
      },
      "execution_count": 32,
      "outputs": [
        {
          "output_type": "stream",
          "name": "stdout",
          "text": [
            "Digite o seu nome completo: \n",
            "Daniel\n",
            "LEINAD\n"
          ]
        }
      ]
    },
    {
      "cell_type": "code",
      "source": [
        "# Também podemos fazer, de uma maneira mais elegante, com a forma abaixo de apenas uma linha\n",
        "print(input(\"Digite o seu nome completo: \\n\").upper()[::-1])\n"
      ],
      "metadata": {
        "colab": {
          "base_uri": "https://localhost:8080/"
        },
        "id": "ilLxWU7kqhLn",
        "outputId": "fe88305b-536d-4f93-ff0d-a9b2eca8dbad"
      },
      "execution_count": 35,
      "outputs": [
        {
          "output_type": "stream",
          "name": "stdout",
          "text": [
            "Digite o seu nome completo: \n",
            "Daniel\n",
            "LEINAD\n"
          ]
        }
      ]
    },
    {
      "cell_type": "code",
      "source": [],
      "metadata": {
        "id": "0LsN_R2Eq9Y3"
      },
      "execution_count": null,
      "outputs": []
    }
  ]
}