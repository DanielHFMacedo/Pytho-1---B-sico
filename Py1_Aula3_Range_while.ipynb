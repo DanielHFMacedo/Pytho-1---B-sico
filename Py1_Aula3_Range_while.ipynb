{
  "nbformat": 4,
  "nbformat_minor": 0,
  "metadata": {
    "colab": {
      "provenance": [],
      "authorship_tag": "ABX9TyMO9w9NOrTs7Xr1FT6E6Np6",
      "include_colab_link": true
    },
    "kernelspec": {
      "name": "python3",
      "display_name": "Python 3"
    },
    "language_info": {
      "name": "python"
    }
  },
  "cells": [
    {
      "cell_type": "markdown",
      "metadata": {
        "id": "view-in-github",
        "colab_type": "text"
      },
      "source": [
        "<a href=\"https://colab.research.google.com/github/DanielHFMacedo/Python-1-Basico-Prof-Amanda-Escola-Fuctura-Tecnologia-/blob/main/Py1_Aula3_Range_while.ipynb\" target=\"_parent\"><img src=\"https://colab.research.google.com/assets/colab-badge.svg\" alt=\"Open In Colab\"/></a>"
      ]
    },
    {
      "cell_type": "markdown",
      "source": [
        "## Função Range"
      ],
      "metadata": {
        "id": "9SSjcfl1v7ZA"
      }
    },
    {
      "cell_type": "markdown",
      "source": [
        "A função range é um função gera uma lista de valores numéricos com strart (valor inicial), step(intevalos) e stop(final). Através dela podemos criar listas, tuplas, dicionários e podemos trabalhar com estruturas de repetição for, while, do-while.\n"
      ],
      "metadata": {
        "id": "MKoe7BzH089j"
      }
    },
    {
      "cell_type": "code",
      "source": [
        "print(list(range(10))) # Quando há apenas um argumento, ele entendo start=0 e step=1 e stop=argumento dado\n",
        "print(list(range(20,30))) # Quando há 2 argumentos, ele entendo start=1º argumento e step=1 e stop=2º argumento\n",
        "print(tuple(range(0,20,5))) # Quando há 3 argumentos, ele entendo start=1º argumento, step=3º argumento e stop=2º argumento"
      ],
      "metadata": {
        "colab": {
          "base_uri": "https://localhost:8080/"
        },
        "id": "_UKcmRUIv-p8",
        "outputId": "3c33e3f9-7bca-4f9b-aaef-3116898646f3"
      },
      "execution_count": 7,
      "outputs": [
        {
          "output_type": "stream",
          "name": "stdout",
          "text": [
            "[0, 1, 2, 3, 4, 5, 6, 7, 8, 9]\n",
            "[20, 21, 22, 23, 24, 25, 26, 27, 28, 29]\n",
            "(0, 5, 10, 15)\n"
          ]
        }
      ]
    },
    {
      "cell_type": "markdown",
      "source": [
        "## Laço For"
      ],
      "metadata": {
        "id": "BVGMgRJNzoP2"
      }
    },
    {
      "cell_type": "markdown",
      "source": [
        "Qual o objetivo de utilizar um laço for ?\n",
        "Imagine que você precisa digitar o nome de 3 produtos e seus respectivos valores num banco de dados, como você resolveria esse problema ?\n",
        "A resposta poderia ser o código abaixo:"
      ],
      "metadata": {
        "id": "sQotGjhG2sQK"
      }
    },
    {
      "cell_type": "code",
      "source": [
        "nome1=input(\"Digite o nome do 1 produto\")\n",
        "valor1=float(input(\"Digite o valor do 1 produto\"))\n",
        "nome2=input(\"Digite o nome do 2 produto\")\n",
        "valor1=float(input(\"Digite o valor do 1 produto\"))\n",
        "nome3=input(\"Digite o nome do 3 produto\")\n",
        "valor1=float(input(\"Digite o valor do 1 produto\"))"
      ],
      "metadata": {
        "colab": {
          "base_uri": "https://localhost:8080/",
          "height": 317
        },
        "id": "8ZGBT9oF3D9P",
        "outputId": "ae87db55-ed88-4ca8-d911-076a090f67d7"
      },
      "execution_count": 13,
      "outputs": [
        {
          "name": "stdout",
          "output_type": "stream",
          "text": [
            "Digite o nome do 1 produtobanaa\n",
            "Digite o valor do 1 produto1.45\n",
            "Digite o nome do 2 produtofsdfsf\n",
            "Digite o valor do 1 produto7sfsfds\n"
          ]
        },
        {
          "output_type": "error",
          "ename": "ValueError",
          "evalue": "ignored",
          "traceback": [
            "\u001b[0;31m---------------------------------------------------------------------------\u001b[0m",
            "\u001b[0;31mValueError\u001b[0m                                Traceback (most recent call last)",
            "\u001b[0;32m<ipython-input-13-4fc22976385f>\u001b[0m in \u001b[0;36m<module>\u001b[0;34m\u001b[0m\n\u001b[1;32m      2\u001b[0m \u001b[0mvalor1\u001b[0m\u001b[0;34m=\u001b[0m\u001b[0mfloat\u001b[0m\u001b[0;34m(\u001b[0m\u001b[0minput\u001b[0m\u001b[0;34m(\u001b[0m\u001b[0;34m\"Digite o valor do 1 produto\"\u001b[0m\u001b[0;34m)\u001b[0m\u001b[0;34m)\u001b[0m\u001b[0;34m\u001b[0m\u001b[0;34m\u001b[0m\u001b[0m\n\u001b[1;32m      3\u001b[0m \u001b[0mnome2\u001b[0m\u001b[0;34m=\u001b[0m\u001b[0minput\u001b[0m\u001b[0;34m(\u001b[0m\u001b[0;34m\"Digite o nome do 2 produto\"\u001b[0m\u001b[0;34m)\u001b[0m\u001b[0;34m\u001b[0m\u001b[0;34m\u001b[0m\u001b[0m\n\u001b[0;32m----> 4\u001b[0;31m \u001b[0mvalor1\u001b[0m\u001b[0;34m=\u001b[0m\u001b[0mfloat\u001b[0m\u001b[0;34m(\u001b[0m\u001b[0minput\u001b[0m\u001b[0;34m(\u001b[0m\u001b[0;34m\"Digite o valor do 1 produto\"\u001b[0m\u001b[0;34m)\u001b[0m\u001b[0;34m)\u001b[0m\u001b[0;34m\u001b[0m\u001b[0;34m\u001b[0m\u001b[0m\n\u001b[0m\u001b[1;32m      5\u001b[0m \u001b[0mnome3\u001b[0m\u001b[0;34m=\u001b[0m\u001b[0minput\u001b[0m\u001b[0;34m(\u001b[0m\u001b[0;34m\"Digite o nome do 3 produto\"\u001b[0m\u001b[0;34m)\u001b[0m\u001b[0;34m\u001b[0m\u001b[0;34m\u001b[0m\u001b[0m\n\u001b[1;32m      6\u001b[0m \u001b[0mvalor1\u001b[0m\u001b[0;34m=\u001b[0m\u001b[0mfloat\u001b[0m\u001b[0;34m(\u001b[0m\u001b[0minput\u001b[0m\u001b[0;34m(\u001b[0m\u001b[0;34m\"Digite o valor do 1 produto\"\u001b[0m\u001b[0;34m)\u001b[0m\u001b[0;34m)\u001b[0m\u001b[0;34m\u001b[0m\u001b[0;34m\u001b[0m\u001b[0m\n",
            "\u001b[0;31mValueError\u001b[0m: could not convert string to float: '7sfsfds'"
          ]
        }
      ]
    },
    {
      "cell_type": "markdown",
      "source": [
        "Agora, imagine que o problema é colocar 100 nomes e seus respectivos valores. Seria exaustivo utilizar 200 inputs, 100 para nomes e 100 para variáveis. Para isso utilizamos laços. O primeiro tipo de laço que vamos utilizar é o laço FOR.\n",
        "Normalmente declaramos ele com um range seguindo a forma abaixo:\n"
      ],
      "metadata": {
        "id": "wK2eZP0o3XJk"
      }
    },
    {
      "cell_type": "code",
      "source": [
        "for item in range(4): # significa for (para) cada item(poderia ser qualquer nome) in(dentro de) range(4)(limite de 0 a 4): repita o código\n",
        "  nome1=str(input(\"Digite o nome do %d ºProduto:\" %v)) \n",
        "  valor1=float(input(\"Digite o valor do 1 produto\"))\n"
      ],
      "metadata": {
        "colab": {
          "base_uri": "https://localhost:8080/"
        },
        "id": "lnRGlHimyMvp",
        "outputId": "132b2204-64f4-4619-c50d-4e6cab8b9c1d"
      },
      "execution_count": 11,
      "outputs": [
        {
          "name": "stdout",
          "output_type": "stream",
          "text": [
            "Digite o nome do 0 ºProduto:maçã\n",
            "Digite o nome do 1 ºProduto:banana\n",
            "Digite o nome do 2 ºProduto:pper \n",
            "Digite o nome do 3 ºProduto:aadasd\n"
          ]
        }
      ]
    },
    {
      "cell_type": "markdown",
      "source": [
        "Se fossem os 100 elementos, era só colocar 100 no argumento do range e resolveria o problema.\n"
      ],
      "metadata": {
        "id": "jeXJQeCY5TG5"
      }
    },
    {
      "cell_type": "code",
      "source": [
        "for item in range(100): # significa for (para) cada item(poderia ser qualquer nome) in(dentro de) range(4)(limite de 0 a 4): repita o código\n",
        "  nome1=str(input(\"Digite o nome do %d ºProduto:\" %v)) \n",
        "  valor1=float(input(\"Digite o valor do 1 produto\"))"
      ],
      "metadata": {
        "colab": {
          "base_uri": "https://localhost:8080/",
          "height": 433
        },
        "id": "bcu_uAzL5e3l",
        "outputId": "496a2fd1-8912-4934-a9b7-3d3db730d84b"
      },
      "execution_count": 14,
      "outputs": [
        {
          "name": "stdout",
          "output_type": "stream",
          "text": [
            "Digite o nome do 3 ºProduto:asdad\n",
            "Digite o valor do 1 produto45\n",
            "Digite o nome do 3 ºProduto:dadsa\n"
          ]
        },
        {
          "output_type": "error",
          "ename": "KeyboardInterrupt",
          "evalue": "ignored",
          "traceback": [
            "\u001b[0;31m---------------------------------------------------------------------------\u001b[0m",
            "\u001b[0;31mKeyboardInterrupt\u001b[0m                         Traceback (most recent call last)",
            "\u001b[0;32m<ipython-input-14-323f8881a288>\u001b[0m in \u001b[0;36m<module>\u001b[0;34m\u001b[0m\n\u001b[1;32m      1\u001b[0m \u001b[0;32mfor\u001b[0m \u001b[0mitem\u001b[0m \u001b[0;32min\u001b[0m \u001b[0mrange\u001b[0m\u001b[0;34m(\u001b[0m\u001b[0;36m100\u001b[0m\u001b[0;34m)\u001b[0m\u001b[0;34m:\u001b[0m \u001b[0;31m# significa for (para) cada item(poderia ser qualquer nome) in(dentro de) range(4)(limite de 0 a 4): repita o código\u001b[0m\u001b[0;34m\u001b[0m\u001b[0;34m\u001b[0m\u001b[0m\n\u001b[1;32m      2\u001b[0m   \u001b[0mnome1\u001b[0m\u001b[0;34m=\u001b[0m\u001b[0mstr\u001b[0m\u001b[0;34m(\u001b[0m\u001b[0minput\u001b[0m\u001b[0;34m(\u001b[0m\u001b[0;34m\"Digite o nome do %d ºProduto:\"\u001b[0m \u001b[0;34m%\u001b[0m\u001b[0mv\u001b[0m\u001b[0;34m)\u001b[0m\u001b[0;34m)\u001b[0m\u001b[0;34m\u001b[0m\u001b[0;34m\u001b[0m\u001b[0m\n\u001b[0;32m----> 3\u001b[0;31m   \u001b[0mvalor1\u001b[0m\u001b[0;34m=\u001b[0m\u001b[0mfloat\u001b[0m\u001b[0;34m(\u001b[0m\u001b[0minput\u001b[0m\u001b[0;34m(\u001b[0m\u001b[0;34m\"Digite o valor do 1 produto\"\u001b[0m\u001b[0;34m)\u001b[0m\u001b[0;34m)\u001b[0m\u001b[0;34m\u001b[0m\u001b[0;34m\u001b[0m\u001b[0m\n\u001b[0m",
            "\u001b[0;32m/usr/local/lib/python3.7/dist-packages/ipykernel/kernelbase.py\u001b[0m in \u001b[0;36mraw_input\u001b[0;34m(self, prompt)\u001b[0m\n\u001b[1;32m    861\u001b[0m             \u001b[0mself\u001b[0m\u001b[0;34m.\u001b[0m\u001b[0m_parent_ident\u001b[0m\u001b[0;34m,\u001b[0m\u001b[0;34m\u001b[0m\u001b[0;34m\u001b[0m\u001b[0m\n\u001b[1;32m    862\u001b[0m             \u001b[0mself\u001b[0m\u001b[0;34m.\u001b[0m\u001b[0m_parent_header\u001b[0m\u001b[0;34m,\u001b[0m\u001b[0;34m\u001b[0m\u001b[0;34m\u001b[0m\u001b[0m\n\u001b[0;32m--> 863\u001b[0;31m             \u001b[0mpassword\u001b[0m\u001b[0;34m=\u001b[0m\u001b[0;32mFalse\u001b[0m\u001b[0;34m,\u001b[0m\u001b[0;34m\u001b[0m\u001b[0;34m\u001b[0m\u001b[0m\n\u001b[0m\u001b[1;32m    864\u001b[0m         )\n\u001b[1;32m    865\u001b[0m \u001b[0;34m\u001b[0m\u001b[0m\n",
            "\u001b[0;32m/usr/local/lib/python3.7/dist-packages/ipykernel/kernelbase.py\u001b[0m in \u001b[0;36m_input_request\u001b[0;34m(self, prompt, ident, parent, password)\u001b[0m\n\u001b[1;32m    902\u001b[0m             \u001b[0;32mexcept\u001b[0m \u001b[0mKeyboardInterrupt\u001b[0m\u001b[0;34m:\u001b[0m\u001b[0;34m\u001b[0m\u001b[0;34m\u001b[0m\u001b[0m\n\u001b[1;32m    903\u001b[0m                 \u001b[0;31m# re-raise KeyboardInterrupt, to truncate traceback\u001b[0m\u001b[0;34m\u001b[0m\u001b[0;34m\u001b[0m\u001b[0;34m\u001b[0m\u001b[0m\n\u001b[0;32m--> 904\u001b[0;31m                 \u001b[0;32mraise\u001b[0m \u001b[0mKeyboardInterrupt\u001b[0m\u001b[0;34m(\u001b[0m\u001b[0;34m\"Interrupted by user\"\u001b[0m\u001b[0;34m)\u001b[0m \u001b[0;32mfrom\u001b[0m \u001b[0;32mNone\u001b[0m\u001b[0;34m\u001b[0m\u001b[0;34m\u001b[0m\u001b[0m\n\u001b[0m\u001b[1;32m    905\u001b[0m             \u001b[0;32mexcept\u001b[0m \u001b[0mException\u001b[0m \u001b[0;32mas\u001b[0m \u001b[0me\u001b[0m\u001b[0;34m:\u001b[0m\u001b[0;34m\u001b[0m\u001b[0;34m\u001b[0m\u001b[0m\n\u001b[1;32m    906\u001b[0m                 \u001b[0mself\u001b[0m\u001b[0;34m.\u001b[0m\u001b[0mlog\u001b[0m\u001b[0;34m.\u001b[0m\u001b[0mwarning\u001b[0m\u001b[0;34m(\u001b[0m\u001b[0;34m\"Invalid Message:\"\u001b[0m\u001b[0;34m,\u001b[0m \u001b[0mexc_info\u001b[0m\u001b[0;34m=\u001b[0m\u001b[0;32mTrue\u001b[0m\u001b[0;34m)\u001b[0m\u001b[0;34m\u001b[0m\u001b[0;34m\u001b[0m\u001b[0m\n",
            "\u001b[0;31mKeyboardInterrupt\u001b[0m: Interrupted by user"
          ]
        }
      ]
    },
    {
      "cell_type": "markdown",
      "source": [
        "# While\n"
      ],
      "metadata": {
        "id": "1JDjx-Mp6i7x"
      }
    },
    {
      "cell_type": "code",
      "source": [
        "produto =1\n",
        "while produto<=4:\n",
        "  n1=str(input(\"Produto: \"))\n",
        "  v1=float(input(\"Value: \"))\n",
        "  produto = produto +1  "
      ],
      "metadata": {
        "colab": {
          "base_uri": "https://localhost:8080/"
        },
        "id": "6mEWgBsO5q1Q",
        "outputId": "94aa7a33-30a5-4144-ddc1-570d69d513b6"
      },
      "execution_count": 15,
      "outputs": [
        {
          "name": "stdout",
          "output_type": "stream",
          "text": [
            "Produto: Dnaiel\n",
            "Value: 45.48\n",
            "Produto: logic\n",
            "Value: 30.78\n",
            "Produto: Rob\n",
            "Value: 45\n",
            "Produto: daadf\n",
            "Value: 5656\n"
          ]
        }
      ]
    },
    {
      "cell_type": "code",
      "source": [],
      "metadata": {
        "id": "j0tNsl_C8u8n"
      },
      "execution_count": null,
      "outputs": []
    }
  ]
}