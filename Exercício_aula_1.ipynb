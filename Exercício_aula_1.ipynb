{
  "nbformat": 4,
  "nbformat_minor": 0,
  "metadata": {
    "colab": {
      "provenance": [],
      "authorship_tag": "ABX9TyMplcD92Ye0zUDcqSzapc0u",
      "include_colab_link": true
    },
    "kernelspec": {
      "name": "python3",
      "display_name": "Python 3"
    },
    "language_info": {
      "name": "python"
    }
  },
  "cells": [
    {
      "cell_type": "markdown",
      "metadata": {
        "id": "view-in-github",
        "colab_type": "text"
      },
      "source": [
        "<a href=\"https://colab.research.google.com/github/DanielHFMacedo/Python-1-Basico-Prof-Amanda-Escola-Fuctura-Tecnologia-/blob/main/Exerc%C3%ADcio_aula_1.ipynb\" target=\"_parent\"><img src=\"https://colab.research.google.com/assets/colab-badge.svg\" alt=\"Open In Colab\"/></a>"
      ]
    },
    {
      "cell_type": "code",
      "execution_count": 12,
      "metadata": {
        "colab": {
          "base_uri": "https://localhost:8080/"
        },
        "id": "AzwP-W9gYgdl",
        "outputId": "c58436a4-bc2f-44ce-b1ce-9871daf0c124"
      },
      "outputs": [
        {
          "output_type": "stream",
          "name": "stdout",
          "text": [
            "Digite o nome do hotel (com 6 letras):areis\n",
            "Digite a quantidade de estrelas do hotel (entre 1 e 5):5\n",
            "Digite o nome da cidade em que fica o hotel (com 8 letras):12345678\n",
            "********************\n",
            "****** areis ******\n",
            "*** 5 Estrela(s) ***\n",
            "***** 12345678 *****\n",
            "********************\n"
          ]
        }
      ],
      "source": [
        "# Resolução do execício da aula 1 \n",
        "# Daniel Macêdo 10/09/2022\n",
        "\n",
        "nome_do_hotel=input(\"Digite o nome do hotel (com 6 letras):\")\n",
        "estrelas=int(input(\"Digite a quantidade de estrelas do hotel (entre 1 e 5):\"))\n",
        "cidade=input(\"Digite o nome da cidade em que fica o hotel (com 8 letras):\")\n",
        "\n",
        "\n"
      ]
    },
    {
      "cell_type": "code",
      "source": [
        "# podemos fazer também\n",
        "print(\"*\"*20)\n",
        "print(\"****** %s ******\" %nome_do_hotel)\n",
        "print(\"****%d Estrela(s)****\" %estrelas)\n",
        "print(\"***** %s *****\" %cidade)\n",
        "print(\"*\"*20)\n"
      ],
      "metadata": {
        "colab": {
          "base_uri": "https://localhost:8080/"
        },
        "id": "jz-rroOFgN0y",
        "outputId": "825b0595-aa7d-43d7-8d81-ab235b16f32d"
      },
      "execution_count": 16,
      "outputs": [
        {
          "output_type": "stream",
          "name": "stdout",
          "text": [
            "********************\n",
            "****** areis ******\n",
            "****5 Estrela(s)****\n",
            "***** 12345678 *****\n",
            "********************\n"
          ]
        }
      ]
    },
    {
      "cell_type": "code",
      "source": [],
      "metadata": {
        "id": "DcKnuZolhPvk"
      },
      "execution_count": null,
      "outputs": []
    }
  ]
}