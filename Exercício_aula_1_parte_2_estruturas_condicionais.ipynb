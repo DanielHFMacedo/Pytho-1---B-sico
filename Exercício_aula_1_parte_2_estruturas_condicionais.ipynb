{
  "nbformat": 4,
  "nbformat_minor": 0,
  "metadata": {
    "colab": {
      "provenance": [],
      "authorship_tag": "ABX9TyNlc6/KeY47XLDxCQtiSOBA",
      "include_colab_link": true
    },
    "kernelspec": {
      "name": "python3",
      "display_name": "Python 3"
    },
    "language_info": {
      "name": "python"
    }
  },
  "cells": [
    {
      "cell_type": "markdown",
      "metadata": {
        "id": "view-in-github",
        "colab_type": "text"
      },
      "source": [
        "<a href=\"https://colab.research.google.com/github/DanielHFMacedo/Python-1-Basico-Prof-Amanda-Escola-Fuctura-Tecnologia-/blob/main/Exerc%C3%ADcio_aula_1_parte_2_estruturas_condicionais.ipynb\" target=\"_parent\"><img src=\"https://colab.research.google.com/assets/colab-badge.svg\" alt=\"Open In Colab\"/></a>"
      ]
    },
    {
      "cell_type": "code",
      "execution_count": 12,
      "metadata": {
        "colab": {
          "base_uri": "https://localhost:8080/"
        },
        "id": "jKr9zwJkKIs-",
        "outputId": "2cab2ad1-7e68-4f1b-d86b-5d689aa779ef"
      },
      "outputs": [
        {
          "output_type": "stream",
          "name": "stdout",
          "text": [
            "Digite o ano do carro:1990\n",
            "Digite o preço do carro:10000\n",
            "O imposto a ser pago é: 150.0  taxa de 1.5%\n"
          ]
        }
      ],
      "source": [
        "\"\"\"\n",
        "1)Num determinado Estado, para transferências de veículos, o DETRAN cobra uma taxa de 1% para carros\n",
        "fabricados antes de 1990 e uma taxa de 1.5% para os fabricados de 1990 em diante, a taxa esta incidindo sobre o\n",
        "valor de tabela do carro. Faça uma algoritmo lê o ano e o preço do carro e a seguir calcula e imprime o imposto a ser pago.\n",
        "\"\"\"\n",
        "\n",
        "# Usamos while-True-Try-except para evitar que o usuário entre com valores diferentes de int\n",
        "# É um artifício de programação defensiva.\n",
        "while True:\n",
        "  try:\n",
        "    ano=int(input(\"Digite o ano do carro:\"))\n",
        "    break\n",
        "  except ValueError:\n",
        "    print(\"Valor digitado não foi inteiro, tente novamente\")\n",
        "\n",
        "# Usamos while-True-Try-except para evitar que o usuário entre com valores diferentes de float\n",
        "while True:\n",
        "  try:\n",
        "    preco=float(input(\"Digite o preço do carro:\"))\n",
        "    break\n",
        "  except ValueError:\n",
        "    print(\"Valor digitado não foi float, tente novamente\")\n",
        "\n",
        "\n",
        "if(ano<1990):\n",
        "  imposto=preco/100\n",
        "  print(\"O imposto a ser pago é:\",imposto,\" taxa de 1%\")\n",
        "else:\n",
        "  imposto=preco*1.5/100\n",
        "  print(\"O imposto a ser pago é:\",imposto,\" taxa de 1.5%\")\n",
        "\n"
      ]
    },
    {
      "cell_type": "code",
      "source": [
        "\"\"\"\n",
        "2)Uma empresa concederá um aumento de salário aos seus funcionários, variável de acordo com o cargo,\n",
        "conforme a tabela abaixo. Faça um algoritmo que leia o salário e o cargo de um funcionário e calcule o novo salário. \n",
        "Se o cargo do funcionário não estiver na tabela, ele deverá, então, receber 40% de aumento.\n",
        "Mostre o salário antigo, o novo salário e a diferença.\n",
        "+======================================+\n",
        "| Código                  Cargo                           Percentual  |\n",
        "|   101                  Gerente                            10%       |\n",
        "|   102                Engenheiro                           20%       |\n",
        "|   103                  Técnico                            30%       |\n",
        "+======================================+\n",
        "\"\"\"\n",
        "\n",
        "\n",
        "\n",
        "while True:\n",
        "  try:\n",
        "    salario=float(input(\"Digite o salário do funcionário:\"))\n",
        "    break\n",
        "  except ValueError:\n",
        "    print(\"Valor digitado não foi float, tente novamente\")\n",
        "\n",
        "while True:\n",
        "  try:\n",
        "    cargo=input(\"Digite o nome do cargo  (sem acento):\")\n",
        "    break\n",
        "  except ValueError:\n",
        "    print(\"Valor digitado não foi float, tente novamente\")\n",
        "\n",
        "cargo=cargo.lower\n",
        "if(cargo==\"gerente\"):\n",
        "  salario=salario*1.1\n",
        "  print(\"Recebeu um aumento de 10%, novo salário:\", salario)\n",
        "elif(cargo==\"engenheiro\"):\n",
        "  salario=salario*1.2\n",
        "  print(\"Recebeu um aumento de 20%, novo salário:\", salario)\n",
        "elif(cargo==\"tecnico\"):\n",
        "  salario=salario*1.3\n",
        "  print(\"Recebeu um aumento de 30%, novo salário:\", salario)\n",
        "else:\n",
        "  salario=salario*1.4\n",
        "  print(\"Recebeu um aumento de 40%, novo salário:\", salario)\n"
      ],
      "metadata": {
        "colab": {
          "base_uri": "https://localhost:8080/"
        },
        "id": "c-6JWA0cLG30",
        "outputId": "7e4ba1f6-0929-4994-a529-512e1ae96142"
      },
      "execution_count": 3,
      "outputs": [
        {
          "output_type": "stream",
          "name": "stdout",
          "text": [
            "Digite o salário do funcionário:20000\n",
            "Digite o nome do cargo  (sem acento):Engenheiro\n",
            "Recebeu um aumento de 40%, novo salário: 28000.0\n"
          ]
        }
      ]
    },
    {
      "cell_type": "code",
      "source": [
        "\"\"\"\n",
        "3)Um banco concederá um crédito especial aos seus clientes, variável com o saldo médio no último ano. Faça um\n",
        "algoritmo que leia o saldo médio de um cliente e calcule o valor do crédito de acordo com a tabela abaixo. Mostre\n",
        "uma mensagem informando o saldo médio e o valor do crédito.\n",
        "+====================================+\n",
        "|  Saldo médio         Percentual             |\n",
        "| de 0 a 200         nenhum crédito           |\n",
        "| de 201 a 400    20% do valor do saldo médio |\n",
        "| de 401 a 600    30% do valor do saldo médio |\n",
        "| acima de 601   40% do valor do saldo médio  |\n",
        "+====================================+\n",
        "\"\"\"\n",
        "\n",
        "while True:\n",
        "  try:\n",
        "    saldo_medio=float(input(\"Digite o saldo médio:\"))\n",
        "    break\n",
        "  except ValueError:\n",
        "    print(\"Valor digitado não foi float, tente novamente\")\n",
        "\n",
        "if(0<saldo_medio<200):\n",
        "  print(\"Saldo médio:\",saldo_medio,\"valor de crédito:\",saldo_medio*0)\n",
        "elif(201<saldo_medio<400):\n",
        "  print(\"Saldo médio:\",saldo_medio,\"valor de crédito:\",saldo_medio*0.2)\n",
        "elif(401<saldo_medio<600):\n",
        "  print(\"Saldo médio:\",saldo_medio,\"valor de crédito:\",saldo_medio*0.3)\n",
        "elif(saldo_medio>601):\n",
        "  print(\"Saldo médio:\",saldo_medio,\"valor de crédito:\",saldo_medio*0.4)\n",
        "\n"
      ],
      "metadata": {
        "id": "YFiJUrP0LY5N",
        "colab": {
          "base_uri": "https://localhost:8080/"
        },
        "outputId": "3bded897-ad29-495c-a351-f3899b7fc287"
      },
      "execution_count": 13,
      "outputs": [
        {
          "output_type": "stream",
          "name": "stdout",
          "text": [
            "Digite o saldo médio:1000\n",
            "Saldo médio: 1000.0 valor de crédito: 400.0\n"
          ]
        }
      ]
    },
    {
      "cell_type": "code",
      "source": [
        "\"\"\"\n",
        "4) Faça um algoritmo que leia um número e mostre uma mensagem indicando se este número é par ou ímpar e se é positivo ou negativo.\n",
        "\"\"\"\n",
        "while True:\n",
        "  try: \n",
        "    num=float(input(\"Digite um numero:\"))\n",
        "    break\n",
        "  except: ValueError\n",
        "  print(\"Valor digitado não foi um número tente novamente.\")\n",
        "\n",
        "\n",
        "if(num<0):\n",
        "  print(\"Número negativo.\\n\")\n",
        "else:\n",
        "  print(\"Número positivo.\")\n",
        "if(num%2==0):\n",
        "  print(\"Par\")\n",
        "else:\n",
        "  print(\"Ímpar\")\n",
        "\n"
      ],
      "metadata": {
        "id": "Kshv-otoNT54",
        "colab": {
          "base_uri": "https://localhost:8080/"
        },
        "outputId": "fc194dfd-9cec-4520-db74-9b927d1f1cab"
      },
      "execution_count": 24,
      "outputs": [
        {
          "output_type": "stream",
          "name": "stdout",
          "text": [
            "Digite um numero:-15\n",
            "Número negativo.\n",
            "\n",
            "Ímpar\n"
          ]
        }
      ]
    },
    {
      "cell_type": "code",
      "source": [
        "\"\"\"\n",
        "5) Elabore um algoritmo que leia 5 valores inteiros em cinco variáveis diferentes e apresente na tela o maior e o menor deles. \n",
        "\"\"\"\n",
        "l=[] # Cria uma lista vazia\n",
        "for i in range(5): # Aqui usamos um laço for para pedir 5 valores que serão armazenados na lista vazia \n",
        "  while True: # para cada laço do for existe um try-except para rejeitar entradas erradas.\n",
        "    try: \n",
        "      l.append(int(input(\"Digite um numero inteiro:\")))\n",
        "      break\n",
        "    except: ValueError\n",
        "    print(\"Valor digitado não foi um número tente novamente.\")\n",
        "\n",
        "print(l)\n",
        "l.sort() #Usamos sort para colocar em ordem crescente\n",
        "l=l[::-1] # usamos [::-1] para inverter e o maior valor ficará na primeira casa\n",
        "print(l[0]) "
      ],
      "metadata": {
        "colab": {
          "base_uri": "https://localhost:8080/"
        },
        "id": "ySusXRTag0-9",
        "outputId": "e2d8d8f3-c210-4934-f1a0-2ce74260e818"
      },
      "execution_count": 40,
      "outputs": [
        {
          "output_type": "stream",
          "name": "stdout",
          "text": [
            "Digite um numero inteiro:4\n",
            "Digite um numero inteiro:6\n",
            "Digite um numero inteiro:-8\n",
            "Digite um numero inteiro:10\n",
            "Digite um numero inteiro:3\n",
            "[4, 6, -8, 10, 3]\n",
            "10\n"
          ]
        }
      ]
    },
    {
      "cell_type": "code",
      "source": [
        "\"\"\"\n",
        "6) A escola “Fuctura Tecnologia” faz o pagamento de seus professores por hora/aula. Faça um algoritmo que calcule e exiba o salário de um professor. Sabe - se que o valor da hora/aula segue abaixo:\n",
        "\n",
        "Professor Nível 1 - Monitor: R$12,00 por hora/aula\n",
        "Professor Nível 2 - Instrutor: R$27,00 por hora/aula\n",
        "Professor Nível 3 - Magistério: R$ 35,00 por hora/aula\n",
        "\n",
        "\"\"\"\n",
        "\n",
        "while True:\n",
        "  try: \n",
        "    nivel=int(input(\"Digite o nível do professor (1-Monitor, 2-Instrutor, 3-Magistério) :\"))\n",
        "    if(1<=nivel<=3): # queremos entradas inteiras 1,2,3 apenas não queremos outros tipos primitivos, ou inteiro abaixo de 1 ou acima de 3\n",
        "      break\n",
        "  except: ValueError\n",
        "  print(\"Valor digitado não é corresponde, tente novamente.\")\n",
        "\n",
        "while True:\n",
        "  try: \n",
        "    horas=int(input(\"Digite a quantidade de horas de trabalho:\"))\n",
        "    if(horas>=0): # aqui aceitamos quantidades inteiras e amiores que zero horas de trabalho \n",
        "      break\n",
        "  except: ValueError\n",
        "  print(\"Valor digitado não corresponde, tente novamente.\")\n",
        "\n",
        "if(nivel==1):\n",
        "  print(\"O salário é:\",horas*12)\n",
        "elif(nivel==2):\n",
        "  print(\"O salário é:\",horas*27)\n",
        "else:\n",
        "  print(\"O salário é:\",horas*35)\n"
      ],
      "metadata": {
        "colab": {
          "base_uri": "https://localhost:8080/"
        },
        "id": "6hTKmUaW1kuP",
        "outputId": "e956e9f7-b096-46ed-f1d7-4326ae1b45da"
      },
      "execution_count": 41,
      "outputs": [
        {
          "output_type": "stream",
          "name": "stdout",
          "text": [
            "Digite o nível do professor (1-Monitor, 2-Instrutor, 3-Magistério) :3\n",
            "Digite a quantidade de horas de trabalho:40\n",
            "O salário é: 1400\n"
          ]
        }
      ]
    }
  ]
}