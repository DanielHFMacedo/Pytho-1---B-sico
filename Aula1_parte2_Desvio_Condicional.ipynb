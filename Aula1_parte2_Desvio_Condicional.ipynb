{
  "nbformat": 4,
  "nbformat_minor": 0,
  "metadata": {
    "colab": {
      "provenance": [],
      "authorship_tag": "ABX9TyOfZt487+W7eGG6IYaEqbes",
      "include_colab_link": true
    },
    "kernelspec": {
      "name": "python3",
      "display_name": "Python 3"
    },
    "language_info": {
      "name": "python"
    }
  },
  "cells": [
    {
      "cell_type": "markdown",
      "metadata": {
        "id": "view-in-github",
        "colab_type": "text"
      },
      "source": [
        "<a href=\"https://colab.research.google.com/github/DanielHFMacedo/Python-1-Basico-Prof-Amanda-Escola-Fuctura-Tecnologia-/blob/main/Aula1_parte2_Desvio_Condicional.ipynb\" target=\"_parent\"><img src=\"https://colab.research.google.com/assets/colab-badge.svg\" alt=\"Open In Colab\"/></a>"
      ]
    },
    {
      "cell_type": "code",
      "execution_count": null,
      "metadata": {
        "colab": {
          "base_uri": "https://localhost:8080/"
        },
        "id": "QLdFta6HJ2xZ",
        "outputId": "a53f0121-cc16-46cb-ca11-56df555c7de4"
      },
      "outputs": [
        {
          "output_type": "execute_result",
          "data": {
            "text/plain": [
              "False"
            ]
          },
          "metadata": {},
          "execution_count": 9
        }
      ],
      "source": [
        "\"\"\"\n",
        "Módulo 1 :\n",
        "1- Tipos de dados\n",
        "2- Variáveis\n",
        "3- Operadores aritméticos\n",
        "4- Estruturas condicionais\n",
        "5- Estruturas de dados\n",
        "6- Loops\n",
        "7- Métodos e funções\n",
        "8- Orientação a objeto\n",
        "9- Bibliotecas\n",
        "10- Tratamento de erros \n",
        "\n",
        "Na aula passada vimos os tópicos 1,2 e 3.\n",
        "Vimos tipos primitivos int, float, string e booleano,\n",
        "Vimos os operadores +,-,*,**,/,//,%\n",
        "Vimos também os comandos print() e input() com os conversores int(), float(),\n",
        "string() e bool()\n",
        "Vimos os comandos type() para verificar os tipos primitivos de cada variável.\n",
        "\"\"\""
      ]
    },
    {
      "cell_type": "code",
      "source": [
        "\"\"\"\n",
        "Tema da aula de hoje: Desvio Condicional \n",
        "Competências : \n",
        "\n",
        "Operadores relacionais :\n",
        "(X == Y) X é igual a Y\n",
        "(X != Y) X é diferente de Y\n",
        "(X < Y) X é menor que Y\n",
        "(X <= Y) X é menor ou igual a Y\n",
        "(X > Y) X é maior que Y\n",
        "(X >= Y) X é maior ou igual que Y\n",
        "\"\"\""
      ],
      "metadata": {
        "id": "xgmjAGK5hZMW"
      },
      "execution_count": null,
      "outputs": []
    },
    {
      "cell_type": "code",
      "source": [
        "valor1=10\n",
        "valor2=50\n",
        "\n",
        "valor1==valor2 # Comparando os valores\n"
      ],
      "metadata": {
        "colab": {
          "base_uri": "https://localhost:8080/"
        },
        "id": "hskmkIGThcjQ",
        "outputId": "33491f09-5b83-4fad-8104-66b058f09d90"
      },
      "execution_count": null,
      "outputs": [
        {
          "output_type": "execute_result",
          "data": {
            "text/plain": [
              "False"
            ]
          },
          "metadata": {},
          "execution_count": 12
        }
      ]
    },
    {
      "cell_type": "code",
      "source": [
        "valor1=valor2 # observe a difereça do operador == para o = (atribuição) \n",
        "valor1 # Nesse caso valor 1 recebeu 50."
      ],
      "metadata": {
        "colab": {
          "base_uri": "https://localhost:8080/"
        },
        "id": "ZsYViEXwhqFh",
        "outputId": "94e9b2bd-461c-4b03-fb8f-0a5157816a93"
      },
      "execution_count": null,
      "outputs": [
        {
          "output_type": "execute_result",
          "data": {
            "text/plain": [
              "50"
            ]
          },
          "metadata": {},
          "execution_count": 14
        }
      ]
    },
    {
      "cell_type": "code",
      "source": [
        "\"\"\"\n",
        "Operadores lógicos \n",
        "São operadores que unem duas expressões lógicas e retornam um \n",
        "valor booleano (True ou False)\n",
        "Eles são:\n",
        "and ( && )\n",
        "or  ( || )\n",
        "not ( !)\n",
        "\n",
        "Existe uma regra de prioridades dos operadores\n",
        "\"\"\"\n",
        "\n",
        "print(\"(10>18) and (3>2) =\",(10>18)and(3>2))\n",
        "print(\"(10>18) or (3>2) =\",(10>18)or(3>2))\n",
        "print(\"(10>18) and (3>2) or (1<2) =\",(10>18)and(3>2)or(1<2))\n",
        "print(\"(10>18) and ((3>2) or (1<2)) =\",(10>18)and((3>2)or(1<2)))\n",
        "\n",
        "#Observe a diferença do 3º e 4º resultado e o efeito dos parênteses na expressão lógica\n",
        "# Python exexuta primeiro a expressão 'and' e depois 'or'\n",
        "\n",
        "print(\"not(1>2) =\",not(1>2))"
      ],
      "metadata": {
        "colab": {
          "base_uri": "https://localhost:8080/"
        },
        "id": "CGTL0xu8iSZm",
        "outputId": "a4bf18a5-dde5-40d5-8db3-2dcb2b1e3dcb"
      },
      "execution_count": null,
      "outputs": [
        {
          "output_type": "stream",
          "name": "stdout",
          "text": [
            "(10>18) and (3>2) = False\n",
            "(10>18) or (3>2) = True\n",
            "(10>18) and (3>2) or (1<2) = True\n",
            "(10>18) and ((3>2) or (1<2)) = False\n",
            "not(1>2) = True\n"
          ]
        }
      ]
    },
    {
      "cell_type": "code",
      "source": [
        "# Desvio condicional\n",
        "# A estrutura de um desvio condicional é do tipo:\n",
        "# Se (condição): execute isso"
      ],
      "metadata": {
        "id": "awE5y0wHtVDa"
      },
      "execution_count": null,
      "outputs": []
    },
    {
      "cell_type": "code",
      "source": [
        "\"\"\"\n",
        "Cenário 1: Há 2 códigos de desconto, fuctura1 e fuctura2.\n",
        "Se o usuário utilizar um desses dois cupons então aplique \n",
        "um desconto de 15% no valor final da compra.\n",
        "\"\"\"\n",
        "\n",
        "cupon=input(\"Digite o nome do cupon: \")\n",
        "if((cupon==(\"fuctura1\")) or (cupon==\"fuctura2\")):\n",
        "  print(\"Desconto de 15%\")"
      ],
      "metadata": {
        "colab": {
          "base_uri": "https://localhost:8080/"
        },
        "id": "QsHH3a67umjP",
        "outputId": "3ebfa3e2-66f3-4938-9897-bf409cc0aa3d"
      },
      "execution_count": null,
      "outputs": [
        {
          "name": "stdout",
          "output_type": "stream",
          "text": [
            "Digite o nome do cupon: dhasdasd\n"
          ]
        }
      ]
    },
    {
      "cell_type": "code",
      "source": [
        "\"\"\"\n",
        "Cenário 1: Há 2 códigos de desconto, fuctura1 e fuctura2.\n",
        "Se o usuário utilizar um desses dois cupons então aplique \n",
        "um desconto de 15% no valor final da compra.\n",
        "\"\"\"\n",
        "# podemos usar a função upper ou lower para converter para tudo maiúsculo ou minúsculo\n",
        "cupon=input(\"Digite o nome do cupon: \").lower()\n",
        "if((cupon==(\"fuctura1\")) or (cupon==\"fuctura2\")):\n",
        "  print(\"Desconto de 15%\")"
      ],
      "metadata": {
        "colab": {
          "base_uri": "https://localhost:8080/"
        },
        "id": "w0spgn83xJaF",
        "outputId": "16c8a05e-fc46-4248-c727-752e8431bbe7"
      },
      "execution_count": null,
      "outputs": [
        {
          "output_type": "stream",
          "name": "stdout",
          "text": [
            "Digite o nome do cupon: FUCTURA1\n",
            "Desconto de 15%\n"
          ]
        }
      ]
    },
    {
      "cell_type": "code",
      "source": [
        "\"\"\"\n",
        "Cenário 1: Há 2 códigos de desconto, fuctura1 e fuctura2.\n",
        "Se o usuário utilizar um desses dois cupons então aplique \n",
        "um desconto de 15% no valor final da compra senão 10%.\n",
        "\"\"\"\n",
        "# podemos usar a função upper ou lower para converter para tudo maiúsculo ou minúsculo\n",
        "cupon=input(\"Digite o nome do cupon: \").lower()\n",
        "if((cupon==(\"fuctura1\")) or (cupon==\"fuctura2\")):\n",
        "  print(\"Desconto de 15%.\")\n",
        "else:\n",
        "  print(\"ganhou 10% de desconto.\")"
      ],
      "metadata": {
        "id": "x8SA_C0_zyuS"
      },
      "execution_count": null,
      "outputs": []
    },
    {
      "cell_type": "code",
      "source": [
        "\"\"\"\n",
        "Cenário 1: Há 2 códigos de desconto, fuctura1 e fuctura2.\n",
        "Se o usuário utilizar fucrura1 então aplique \n",
        "um desconto de 15% no valor final da compra,\n",
        "se fuctura2  10%, se nenhum dos dois 5%.\n",
        "\"\"\"\n",
        "# podemos usar a função upper ou lower para converter para tudo maiúsculo ou minúsculo\n",
        "cupon=input(\"Digite o nome do cupon: \").lower()\n",
        "if((cupon==(\"fuctura1\"))):\n",
        "  print(\"Desconto de 15%.\")\n",
        "elif(cupon==\"fuctura2\"):\n",
        "  print(\"ganhou 10% de desconto.\")\n",
        "else:\n",
        "  print(\"Ganhou 5% de desconto.\")"
      ],
      "metadata": {
        "colab": {
          "base_uri": "https://localhost:8080/"
        },
        "id": "DEzLVCB5z_GY",
        "outputId": "b5bd6eb1-0134-4d54-b8ad-e774840ad855"
      },
      "execution_count": null,
      "outputs": [
        {
          "output_type": "stream",
          "name": "stdout",
          "text": [
            "Digite o nome do cupon: fuctura3\n",
            "Ganhou 5% de desconto.\n"
          ]
        }
      ]
    }
  ]
}